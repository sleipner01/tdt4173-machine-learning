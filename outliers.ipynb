{
 "cells": [
  {
   "cell_type": "markdown",
   "metadata": {},
   "source": [
    "## Import Libraries"
   ]
  },
  {
   "cell_type": "code",
   "execution_count": null,
   "metadata": {},
   "outputs": [],
   "source": [
    "import os\n",
    "import pandas as pd\n",
    "import numpy as np\n",
    "import matplotlib.pyplot as plt\n",
    "import tensorflow as tf\n",
    "import random\n",
    "import sklearn\n",
    "import seaborn as sns\n",
    "from scipy import stats\n",
    "\n",
    "%matplotlib inline\n",
    "\n",
    "pd.set_option('display.max_rows', 200)\n",
    "pd.set_option('display.max_columns', 200)"
   ]
  },
  {
   "cell_type": "markdown",
   "metadata": {},
   "source": [
    "## Read data"
   ]
  },
  {
   "cell_type": "code",
   "execution_count": null,
   "metadata": {},
   "outputs": [],
   "source": [
    "y_a = pd.read_parquet('A/train_targets.parquet')\n",
    "y_b = pd.read_parquet('B/train_targets.parquet')\n",
    "y_c = pd.read_parquet('C/train_targets.parquet')\n",
    "\n",
    "X_est_a = pd.read_parquet('A/X_train_estimated.parquet')\n",
    "X_est_b = pd.read_parquet('B/X_train_estimated.parquet')\n",
    "X_est_c = pd.read_parquet('C/X_train_estimated.parquet')\n",
    "\n",
    "X_obs_a = pd.read_parquet('A/X_train_observed.parquet')\n",
    "X_obs_b = pd.read_parquet('B/X_train_observed.parquet')\n",
    "X_obs_c = pd.read_parquet('C/X_train_observed.parquet')\n",
    "\n",
    "X_obs_a.head()"
   ]
  },
  {
   "cell_type": "markdown",
   "metadata": {},
   "source": [
    "## Check X data on all locations"
   ]
  },
  {
   "cell_type": "code",
   "execution_count": null,
   "metadata": {},
   "outputs": [],
   "source": [
    "mean_a = X_obs_a.drop('date_forecast', axis=1).mean()\n",
    "mean_b = X_obs_b.drop('date_forecast', axis=1).mean()\n",
    "mean_c = X_obs_c.drop('date_forecast', axis=1).mean()\n",
    "\n",
    "huge_indices = mean_a[mean_a > 10000].index\n",
    "large_indices = mean_a[(mean_a > 1000) & (mean_a <= 10000)].index\n",
    "medium_indices = mean_a[(mean_a > 100) & (mean_a <= 1000)].index\n",
    "small_indices = mean_a[(mean_a > 10) & (mean_a <= 100)].index\n",
    "tiny_indices = mean_a[(mean_a > 1) & (mean_a <= 10)].index\n",
    "tiniest_indices = mean_a[(mean_a <= 1)].index\n",
    "\n",
    "def display_mean_values(indices, mean_a, mean_b, mean_c):\n",
    "    mean_data = {\n",
    "        'A': mean_a[indices],\n",
    "        'B': mean_b[indices],\n",
    "        'C': mean_c[indices]\n",
    "    }\n",
    "\n",
    "    # Create a dataframe from the mean data\n",
    "    mean_df = pd.DataFrame(mean_data)\n",
    "\n",
    "    # Plot the mean values\n",
    "    mean_df.plot(kind='bar')\n",
    "    plt.xlabel('Features')\n",
    "    plt.ylabel('Mean Values')\n",
    "    plt.title('Mean Values')\n",
    "    plt.show()\n",
    "\n",
    "display_mean_values(huge_indices, mean_a, mean_b, mean_c)"
   ]
  },
  {
   "cell_type": "code",
   "execution_count": null,
   "metadata": {},
   "outputs": [],
   "source": [
    "display_mean_values(large_indices, mean_a, mean_b, mean_c)"
   ]
  },
  {
   "cell_type": "code",
   "execution_count": null,
   "metadata": {},
   "outputs": [],
   "source": [
    "display_mean_values(medium_indices, mean_a, mean_b, mean_c)"
   ]
  },
  {
   "cell_type": "code",
   "execution_count": null,
   "metadata": {},
   "outputs": [],
   "source": [
    "display_mean_values(small_indices, mean_a, mean_b, mean_c)"
   ]
  },
  {
   "cell_type": "code",
   "execution_count": null,
   "metadata": {},
   "outputs": [],
   "source": [
    "display_mean_values(tiny_indices, mean_a, mean_b, mean_c)"
   ]
  },
  {
   "cell_type": "code",
   "execution_count": null,
   "metadata": {},
   "outputs": [],
   "source": [
    "display_mean_values(tiniest_indices, mean_a, mean_b, mean_c)"
   ]
  },
  {
   "cell_type": "markdown",
   "metadata": {},
   "source": [
    "## Observations\n",
    "\n",
    "We can see that there are not that much of a difference i the first 5 of the plots. However, lets get a closer look at the last one:"
   ]
  },
  {
   "cell_type": "code",
   "execution_count": null,
   "metadata": {},
   "outputs": [],
   "source": [
    "big_c_indices = mean_c[tiniest_indices][mean_c > 0.5].index\n",
    "small_c_indices = mean_c[tiniest_indices][mean_c <= 0.5].index\n",
    "\n",
    "display_mean_values(big_c_indices, mean_a, mean_b, mean_c)"
   ]
  },
  {
   "cell_type": "code",
   "execution_count": null,
   "metadata": {},
   "outputs": [],
   "source": [
    "display_mean_values(small_c_indices, mean_a, mean_b, mean_c)"
   ]
  },
  {
   "cell_type": "markdown",
   "metadata": {},
   "source": [
    "From the graphs we can see that C differentiates itself hugely in elevation and probability of rime. Additiionally it snows a lot in C, less in B and least in A. Let's look at what the **elevation** and **prob_rime** features imply:\n",
    "\n",
    "**elevation:m** = elevation of ground above sea level [m]\n",
    "\n",
    "**prob_rime** = rime probability [%]\n",
    "\n",
    "Let's also look closer at the **sun_elevation** feature:"
   ]
  },
  {
   "cell_type": "code",
   "execution_count": null,
   "metadata": {},
   "outputs": [],
   "source": [
    "display_mean_values(['sun_elevation:d',], mean_a, mean_b, mean_c)"
   ]
  },
  {
   "cell_type": "markdown",
   "metadata": {},
   "source": [
    "**sun_elevation:d** = The solar elevation angle (angle between the sun and the horizon) gives the position of the sun above the horizon.\n",
    "\n",
    "This suggests that location B and C are close, and location A is in another location completely."
   ]
  },
  {
   "cell_type": "markdown",
   "metadata": {},
   "source": [
    "## Check target data on different locations"
   ]
  },
  {
   "cell_type": "code",
   "execution_count": null,
   "metadata": {},
   "outputs": [],
   "source": [
    "y_a.describe()"
   ]
  },
  {
   "cell_type": "code",
   "execution_count": null,
   "metadata": {},
   "outputs": [],
   "source": [
    "y_b.describe()"
   ]
  },
  {
   "cell_type": "code",
   "execution_count": null,
   "metadata": {},
   "outputs": [],
   "source": [
    "y_c.describe()"
   ]
  },
  {
   "cell_type": "markdown",
   "metadata": {},
   "source": [
    "As we can see, the mean, max and std are huge on A compared to B and C. Also, notice that the data from location B and C are very similar compared to A"
   ]
  },
  {
   "cell_type": "markdown",
   "metadata": {},
   "source": [
    "## Identify outliers"
   ]
  },
  {
   "cell_type": "code",
   "execution_count": null,
   "metadata": {},
   "outputs": [],
   "source": [
    "z_scores = np.abs(stats.zscore(X_obs_a.drop('date_forecast', axis=1)))\n",
    "outliers = (z_scores > 3).all(axis=1)\n",
    "X_obs_a[outliers].head()"
   ]
  },
  {
   "cell_type": "markdown",
   "metadata": {},
   "source": [
    "## Visualize outliers"
   ]
  },
  {
   "cell_type": "markdown",
   "metadata": {},
   "source": [
    "### Boxplot A"
   ]
  },
  {
   "cell_type": "code",
   "execution_count": null,
   "metadata": {},
   "outputs": [],
   "source": [
    "X_obs_a.boxplot(figsize=(20, 10))"
   ]
  },
  {
   "cell_type": "markdown",
   "metadata": {},
   "source": [
    "### Boxplot B"
   ]
  },
  {
   "cell_type": "code",
   "execution_count": null,
   "metadata": {},
   "outputs": [],
   "source": [
    "X_obs_b.boxplot(figsize=(20, 10))"
   ]
  },
  {
   "cell_type": "markdown",
   "metadata": {},
   "source": [
    "### Boxplot C"
   ]
  },
  {
   "cell_type": "code",
   "execution_count": null,
   "metadata": {},
   "outputs": [],
   "source": [
    "X_obs_c.boxplot(figsize=(20, 10))"
   ]
  },
  {
   "cell_type": "markdown",
   "metadata": {},
   "source": [
    "## Findings\n",
    "\n",
    "We can see that 3 of the features have a lot of outliers on all of the locations. Let's investigate closer:"
   ]
  },
  {
   "cell_type": "markdown",
   "metadata": {},
   "source": [
    "#### Finding outlier features"
   ]
  },
  {
   "cell_type": "code",
   "execution_count": null,
   "metadata": {},
   "outputs": [],
   "source": [
    "all_features = X_obs_a.columns.tolist()\n",
    "# Find outliers by index according to the boxplot\n",
    "outlier_features = [all_features[i] for i in (4, 10, 12)]\n",
    "print(outlier_features)"
   ]
  },
  {
   "cell_type": "markdown",
   "metadata": {},
   "source": [
    "Looked up the features and found this\n",
    "\n",
    "**clear_sky_energy_1h:J** = clear sky energy of previous time period, available up to 24h [J/m2]\n",
    "\n",
    "**diffuse_rad_1h:J** = accumulated diffuse radiation of previous time period, available up to 24h [J/m2]\n",
    "\n",
    "**direct_rad_1h:J** = accumulated direct radiation of previous time period, available up to 24h [J/m2]\n",
    "\n",
    "All of these are for the last hour, so I decided to investigate the datasets further"
   ]
  },
  {
   "cell_type": "code",
   "execution_count": null,
   "metadata": {},
   "outputs": [],
   "source": [
    "X_obs_a.head(100)"
   ]
  },
  {
   "cell_type": "markdown",
   "metadata": {},
   "source": [
    "### Boxplot A"
   ]
  },
  {
   "cell_type": "code",
   "execution_count": null,
   "metadata": {},
   "outputs": [],
   "source": [
    "X_obs_a.boxplot(outlier_features, figsize=(20, 10))"
   ]
  }
 ],
 "metadata": {
  "kernelspec": {
   "display_name": "base",
   "language": "python",
   "name": "python3"
  },
  "language_info": {
   "codemirror_mode": {
    "name": "ipython",
    "version": 3
   },
   "file_extension": ".py",
   "mimetype": "text/x-python",
   "name": "python",
   "nbconvert_exporter": "python",
   "pygments_lexer": "ipython3",
   "version": "3.11.5"
  }
 },
 "nbformat": 4,
 "nbformat_minor": 2
}
