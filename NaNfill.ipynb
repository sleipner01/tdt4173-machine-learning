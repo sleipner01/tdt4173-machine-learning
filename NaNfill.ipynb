{
 "cells": [
  {
   "cell_type": "code",
   "execution_count": 4,
   "metadata": {},
   "outputs": [],
   "source": [
    "import os\n",
    "import pandas as pd\n",
    "import numpy as np\n",
    "import matplotlib.pylab as plt\n",
    "import tensorflow as tf\n",
    "%matplotlib inline\n",
    "\n",
    "pd.set_option('display.max_rows', 200)\n",
    "pd.set_option('display.max_columns', 200)\n",
    "pd.options.display.max_rows = 400"
   ]
  },
  {
   "cell_type": "markdown",
   "metadata": {},
   "source": [
    "Apart from date_calc there are three columns that contain nan values"
   ]
  },
  {
   "cell_type": "code",
   "execution_count": 20,
   "metadata": {},
   "outputs": [
    {
     "data": {
      "text/plain": [
       "date_calc                         352423\n",
       "date_forecast                          0\n",
       "absolute_humidity_2m:gm3               0\n",
       "air_density_2m:kgm3                    0\n",
       "ceiling_height_agl:m               75543\n",
       "clear_sky_energy_1h:J                  0\n",
       "clear_sky_rad:W                        0\n",
       "cloud_base_agl:m                   31862\n",
       "dew_or_rime:idx                        0\n",
       "dew_point_2m:K                         0\n",
       "diffuse_rad:W                          0\n",
       "diffuse_rad_1h:J                       0\n",
       "direct_rad:W                           0\n",
       "direct_rad_1h:J                        0\n",
       "effective_cloud_cover:p                0\n",
       "elevation:m                            0\n",
       "fresh_snow_12h:cm                      0\n",
       "fresh_snow_1h:cm                       0\n",
       "fresh_snow_24h:cm                      0\n",
       "fresh_snow_3h:cm                       0\n",
       "fresh_snow_6h:cm                       0\n",
       "is_day:idx                             0\n",
       "is_in_shadow:idx                       0\n",
       "msl_pressure:hPa                       0\n",
       "precip_5min:mm                         0\n",
       "precip_type_5min:idx                   0\n",
       "pressure_100m:hPa                      0\n",
       "pressure_50m:hPa                       0\n",
       "prob_rime:p                            0\n",
       "rain_water:kgm2                        0\n",
       "relative_humidity_1000hPa:p            0\n",
       "sfc_pressure:hPa                       0\n",
       "snow_density:kgm3                 388759\n",
       "snow_depth:cm                          0\n",
       "snow_drift:idx                         0\n",
       "snow_melt_10min:mm                     0\n",
       "snow_water:kgm2                        0\n",
       "sun_azimuth:d                          0\n",
       "sun_elevation:d                        0\n",
       "super_cooled_liquid_water:kgm2         0\n",
       "t_1000hPa:K                            0\n",
       "total_cloud_cover:p                    0\n",
       "visibility:m                           0\n",
       "wind_speed_10m:ms                      0\n",
       "wind_speed_u_10m:ms                    0\n",
       "wind_speed_v_10m:ms                    0\n",
       "wind_speed_w_1000hPa:ms                0\n",
       "dtype: int64"
      ]
     },
     "metadata": {},
     "output_type": "display_data"
    },
    {
     "data": {
      "text/plain": [
       "count    25032.0\n",
       "mean       250.0\n",
       "std          0.0\n",
       "min        250.0\n",
       "25%        250.0\n",
       "50%        250.0\n",
       "75%        250.0\n",
       "max        250.0\n",
       "Name: snow_density:kgm3, dtype: float64"
      ]
     },
     "metadata": {},
     "output_type": "display_data"
    },
    {
     "data": {
      "text/plain": [
       "count    338248.000000\n",
       "mean       2796.203613\n",
       "std        2488.790527\n",
       "min          27.600000\n",
       "25%        1048.199951\n",
       "50%        1821.800049\n",
       "75%        3795.424927\n",
       "max       12431.299805\n",
       "Name: ceiling_height_agl:m, dtype: float64"
      ]
     },
     "metadata": {},
     "output_type": "display_data"
    },
    {
     "data": {
      "text/plain": [
       "count    381929.000000\n",
       "mean       1717.518677\n",
       "std        1775.247437\n",
       "min          27.299999\n",
       "25%         596.700012\n",
       "50%        1158.300049\n",
       "75%        2067.500000\n",
       "max       11688.900391\n",
       "Name: cloud_base_agl:m, dtype: float64"
      ]
     },
     "metadata": {},
     "output_type": "display_data"
    }
   ],
   "source": [
    "X_train_estimated_a = pd.read_parquet('A/X_train_estimated.parquet')\n",
    "X_train_estimated_b = pd.read_parquet('B/X_train_estimated.parquet')\n",
    "X_train_estimated_c = pd.read_parquet('C/X_train_estimated.parquet')\n",
    "X_train_observed_a = pd.read_parquet('A/X_train_observed.parquet')\n",
    "X_train_observed_b = pd.read_parquet('B/X_train_observed.parquet')\n",
    "X_train_observed_c = pd.read_parquet('C/X_train_observed.parquet')\n",
    "X_test_estimated_a = pd.read_parquet('A/X_test_estimated.parquet')\n",
    "X_test_estimated_b = pd.read_parquet('B/X_test_estimated.parquet')\n",
    "X_test_estimated_c = pd.read_parquet('C/X_test_estimated.parquet')\n",
    "\n",
    "all_data = pd.concat([\n",
    "    X_train_estimated_a,\n",
    "    X_train_estimated_b,\n",
    "    X_train_estimated_c,\n",
    "    X_train_observed_a,\n",
    "    X_train_observed_b,\n",
    "    X_train_observed_c,\n",
    "    X_test_estimated_a,\n",
    "    X_test_estimated_b,\n",
    "    X_test_estimated_c\n",
    "])\n",
    "\n",
    "display(all_data.isna().sum())\n",
    "\n",
    "display(all_data[all_data[\"snow_density:kgm3\"].apply(lambda a: not np.isnan(a))][\"snow_density:kgm3\"].describe())\n",
    "display(all_data[all_data[\"ceiling_height_agl:m\"].apply(lambda a: not np.isnan(a))][\"ceiling_height_agl:m\"].describe())\n",
    "display(all_data[all_data[\"cloud_base_agl:m\"].apply(lambda a: not np.isnan(a))][\"cloud_base_agl:m\"].describe())"
   ]
  }
 ],
 "metadata": {
  "kernelspec": {
   "display_name": "Python 3",
   "language": "python",
   "name": "python3"
  },
  "language_info": {
   "codemirror_mode": {
    "name": "ipython",
    "version": 3
   },
   "file_extension": ".py",
   "mimetype": "text/x-python",
   "name": "python",
   "nbconvert_exporter": "python",
   "pygments_lexer": "ipython3",
   "version": "3.11.6"
  }
 },
 "nbformat": 4,
 "nbformat_minor": 2
}
