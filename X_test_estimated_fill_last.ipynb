{
 "cells": [
  {
   "cell_type": "code",
   "execution_count": 1,
   "metadata": {},
   "outputs": [
    {
     "name": "stderr",
     "output_type": "stream",
     "text": [
      "2023-11-05 19:36:33.298570: I tensorflow/core/platform/cpu_feature_guard.cc:182] This TensorFlow binary is optimized to use available CPU instructions in performance-critical operations.\n",
      "To enable the following instructions: AVX2 FMA, in other operations, rebuild TensorFlow with the appropriate compiler flags.\n"
     ]
    }
   ],
   "source": [
    "import os\n",
    "import pandas as pd\n",
    "import numpy as np\n",
    "import matplotlib.pylab as plt\n",
    "import tensorflow as tf\n",
    "import random\n",
    "%matplotlib inline\n",
    "\n",
    "pd.set_option('display.max_rows', 200)\n",
    "pd.set_option('display.max_columns', 200)"
   ]
  },
  {
   "cell_type": "code",
   "execution_count": 45,
   "metadata": {},
   "outputs": [],
   "source": [
    "def fill_last(frame):\n",
    "    copy = frame.copy()\n",
    "    \n",
    "    copy[\"date_forecast\"] = copy[\"date_forecast\"] + pd.Timedelta(minutes=15)\n",
    "    \n",
    "    copy = copy[copy[\"date_forecast\"].apply(lambda time : time.hour == 0 and time.minute == 0)]\n",
    "    \n",
    "    frame = pd.concat([\n",
    "        frame,\n",
    "        copy\n",
    "    ])\n",
    "    return frame.drop_duplicates(subset=\"date_forecast\", keep=\"first\")"
   ]
  },
  {
   "cell_type": "code",
   "execution_count": 46,
   "metadata": {},
   "outputs": [
    {
     "data": {
      "text/plain": [
       "8640"
      ]
     },
     "metadata": {},
     "output_type": "display_data"
    },
    {
     "data": {
      "text/plain": [
       "8694"
      ]
     },
     "metadata": {},
     "output_type": "display_data"
    }
   ],
   "source": [
    "X_test_estimated_a = pd.read_parquet('A/X_test_estimated.parquet')\n",
    "X_test_estimated_b = pd.read_parquet('B/X_test_estimated.parquet')\n",
    "X_test_estimated_c = pd.read_parquet('C/X_test_estimated.parquet')\n",
    "display(len(X_test_estimated_a)+len(X_test_estimated_b)+len(X_test_estimated_c))\n",
    "X_test_estimated_a = fill_last(X_test_estimated_a)\n",
    "X_test_estimated_b = fill_last(X_test_estimated_b)\n",
    "X_test_estimated_c = fill_last(X_test_estimated_c)\n",
    "display(len(X_test_estimated_a)+len(X_test_estimated_b)+len(X_test_estimated_c))\n",
    "x_test_estimated_a = X_test_estimated_a.sort_values(by=\"date_forecast\")"
   ]
  }
 ],
 "metadata": {
  "kernelspec": {
   "display_name": "Python 3",
   "language": "python",
   "name": "python3"
  },
  "language_info": {
   "codemirror_mode": {
    "name": "ipython",
    "version": 3
   },
   "file_extension": ".py",
   "mimetype": "text/x-python",
   "name": "python",
   "nbconvert_exporter": "python",
   "pygments_lexer": "ipython3",
   "version": "3.11.6"
  }
 },
 "nbformat": 4,
 "nbformat_minor": 2
}
