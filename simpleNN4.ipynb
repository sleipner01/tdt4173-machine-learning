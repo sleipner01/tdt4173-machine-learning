{
 "cells": [
  {
   "cell_type": "code",
   "execution_count": null,
   "metadata": {},
   "outputs": [],
   "source": [
    "import os\n",
    "import pandas as pd\n",
    "import numpy as np\n",
    "import matplotlib.pylab as plt\n",
    "import tensorflow as tf\n",
    "%matplotlib inline\n",
    "\n",
    "pd.set_option('display.max_rows', 200)\n",
    "pd.set_option('display.max_columns', 200)"
   ]
  },
  {
   "cell_type": "code",
   "execution_count": null,
   "metadata": {},
   "outputs": [],
   "source": [
    "def add_location(frame, location):\n",
    "    frame[\"location\"] = location\n",
    "    return frame"
   ]
  },
  {
   "cell_type": "code",
   "execution_count": null,
   "metadata": {},
   "outputs": [],
   "source": [
    "def removeNaN(frame):\n",
    "    frame = frame.fillna(method=\"ffill\")\n",
    "    frame = frame.fillna(method=\"bfill\")\n",
    "    frame = frame.fillna(value=0)\n",
    "    return frame"
   ]
  },
  {
   "cell_type": "code",
   "execution_count": null,
   "metadata": {},
   "outputs": [],
   "source": [
    "def averageFeatures(frame):\n",
    "    frame[\"date_forecast\"] = frame[\"date_forecast\"].apply(lambda a : a.replace(minute=0))\n",
    "    return frame.groupby([\"date_forecast\"])[frame.iloc[:,1:].columns].mean().reset_index()"
   ]
  },
  {
   "cell_type": "markdown",
   "metadata": {},
   "source": [
    "Load and clean data"
   ]
  },
  {
   "cell_type": "code",
   "execution_count": null,
   "metadata": {},
   "outputs": [],
   "source": [
    "train_a = pd.read_parquet('A/train_targets.parquet')\n",
    "X_train_estimated_a = pd.read_parquet('A/X_train_estimated.parquet')\n",
    "X_train_observed_a = pd.read_parquet('A/X_train_observed.parquet')\n",
    "\n",
    "train_b = pd.read_parquet('B/train_targets.parquet')\n",
    "X_train_estimated_b = pd.read_parquet('B/X_train_estimated.parquet')\n",
    "X_train_observed_b = pd.read_parquet('B/X_train_observed.parquet')\n",
    "\n",
    "train_c = pd.read_parquet('C/train_targets.parquet')\n",
    "X_train_estimated_c = pd.read_parquet('C/X_train_estimated.parquet')\n",
    "X_train_observed_c = pd.read_parquet('C/X_train_observed.parquet')\n",
    "\n",
    "train_a = add_location(train_a, \"A\")\n",
    "train_b = add_location(train_b, \"B\")\n",
    "train_c = add_location(train_c, \"C\")\n",
    "X_train_estimated_a = X_train_estimated_a.iloc[:,1:]\n",
    "X_train_estimated_b = X_train_estimated_b.iloc[:,1:]\n",
    "X_train_estimated_c = X_train_estimated_c.iloc[:,1:]\n",
    "X_train_estimated_a = add_location(averageFeatures(removeNaN(X_train_estimated_a)), \"A\")\n",
    "X_train_estimated_b = add_location(averageFeatures(removeNaN(X_train_estimated_b)), \"B\")\n",
    "X_train_estimated_c = add_location(averageFeatures(removeNaN(X_train_estimated_c)), \"C\")\n",
    "X_train_observed_a = add_location(averageFeatures(removeNaN(X_train_observed_a)), \"A\")\n",
    "X_train_observed_b = add_location(averageFeatures(removeNaN(X_train_observed_b)), \"B\")\n",
    "X_train_observed_c = add_location(averageFeatures(removeNaN(X_train_observed_c)), \"C\")"
   ]
  },
  {
   "cell_type": "code",
   "execution_count": null,
   "metadata": {},
   "outputs": [],
   "source": [
    "#Beklager ekstremt nasty kode her\n",
    "\n",
    "\n",
    "targets = pd.concat([train_a, train_b, train_c]).sample(frac=1)\n",
    "features = pd.concat([\n",
    "                     X_train_observed_a, \n",
    "                     X_train_observed_b, \n",
    "                     X_train_observed_c,\n",
    "                     X_train_estimated_a,\n",
    "                    X_train_estimated_b,\n",
    "                    X_train_estimated_c]).sample(frac=1)\n",
    "\n",
    "train_features = features.iloc[:90000,:]\n",
    "train_features = train_features.rename(columns={\"date_forecast\" : \"time\"})\n",
    "trainset = pd.merge(train_features, targets, how=\"right\", on=[\"time\",\"location\"]).dropna()\n",
    "\n",
    "eval_features = features.iloc[90000:,:]\n",
    "eval_features = eval_features.rename(columns={\"date_forecast\" : \"time\"})\n",
    "\n",
    "evalset = pd.merge(eval_features, targets, how=\"right\", on=[\"time\",\"location\"]).dropna()\n",
    "\n",
    "trainsetX = trainset.iloc[:, :-1].reset_index().iloc[:,1:]\n",
    "trainsetX[\"day\"] = trainsetX[\"time\"].dt.day_of_year\n",
    "trainsetX[\"hour\"] = trainsetX[\"time\"].dt.hour\n",
    "\n",
    "\n",
    "sample567 = trainsetX[\"time\"].apply(lambda time : time.month in[5, 6, 7])\n",
    "#display(sample_weights)\n",
    "\n",
    "\n",
    "\n",
    "trainsetX = trainsetX.iloc[:,1:]\n",
    "trainsetX[\"location\"] = trainsetX[\"location\"].map({\"A\": 0, \"B\": 1, \"C\": 2})\n",
    "\n",
    "\n",
    "dataMean = trainsetX.mean()\n",
    "dataStd = trainsetX.std()\n",
    "trainsetX = ((trainsetX-dataMean)/dataStd).fillna(value=0)\n",
    "trainsetY = trainset.iloc[:, -1:].reset_index().iloc[:,1:]\n",
    "\n",
    "\n",
    "evalsetX = evalset.iloc[:, :-1].reset_index().iloc[:, 1:]\n",
    "\n",
    "evalsetX[\"day\"] = evalsetX[\"time\"].dt.day_of_year\n",
    "evalsetX[\"hour\"] = evalsetX[\"time\"].dt.hour\n",
    "\n",
    "#get indexes of the samples from may, june, july\n",
    "eval567 = evalsetX[\"time\"].apply(lambda time : time.month in[5, 6, 7])\n",
    "\n",
    "evalsetX = evalsetX.iloc[:,1:]\n",
    "evalsetX[\"location\"] = evalsetX[\"location\"].map({\"A\": 0, \"B\": 1, \"C\": 2})\n",
    "evalsetX = ((evalsetX-dataMean)/dataStd).fillna(value=0)\n",
    "evalsetY = evalset.iloc[:, -1:].reset_index().iloc[:, 1:]\n",
    "\n",
    "\n",
    "\n",
    "#Visual of features\n",
    "display(trainsetX)\n",
    "\n",
    "\n"
   ]
  },
  {
   "cell_type": "code",
   "execution_count": null,
   "metadata": {},
   "outputs": [],
   "source": [
    "model = tf.keras.models.Sequential([\n",
    "  tf.keras.layers.GaussianNoise(stddev=0.03, seed=42),\n",
    "  tf.keras.layers.Dense(40, activation=\"tanh\"),\n",
    "  tf.keras.layers.Dense(30, activation=\"relu\"),\n",
    "  tf.keras.layers.Dense(15, activation=\"relu\"),\n",
    "  tf.keras.layers.Dense(5, activation=\"relu\")\n",
    "])\n"
   ]
  },
  {
   "cell_type": "code",
   "execution_count": null,
   "metadata": {},
   "outputs": [],
   "source": [
    "#weighting for samples from months matching the testset\n",
    "sample_weights = sample567.map({True : 1.35, False : 1})\n",
    "\n",
    "model.compile(\n",
    "  optimizer=tf.keras.optimizers.experimental.Adadelta(learning_rate=0.5),\n",
    "  loss='mean_absolute_error'\n",
    "  )\n",
    "\n",
    "history = model.fit(trainsetX, \n",
    "                    trainsetY, \n",
    "                    batch_size=500, \n",
    "                    epochs=300,\n",
    "                    validation_data=(evalsetX, evalsetY),\n",
    "                    sample_weight=sample_weights\n",
    "                    )"
   ]
  },
  {
   "cell_type": "code",
   "execution_count": null,
   "metadata": {},
   "outputs": [],
   "source": [
    "\n",
    "evalset567 = evalsetX.join(evalsetY)\n",
    "evalset567 = evalset567[eval567]\n",
    "evalset567X = evalset567.iloc[:,:-1]\n",
    "evalset567Y = evalset567.iloc[:,-1:]\n",
    "\n",
    "#results only in may, june, july(since the test set only contains data from those months)\n",
    "#this should closely match the expected score on kaggle\n",
    "results1 = model.evaluate(evalset567X, evalset567Y)\n",
    "\n",
    "#results for entire eval set\n",
    "results2 = model.evaluate(evalsetX, evalsetY)"
   ]
  },
  {
   "cell_type": "code",
   "execution_count": null,
   "metadata": {},
   "outputs": [],
   "source": [
    "#lagre \n",
    "\n",
    "preds = model.predict(evalsetX)\n",
    "compare = pd.concat([evalsetY, pd.DataFrame(preds)], axis=1)\n",
    "compare.to_csv(\"test1.csv\")"
   ]
  },
  {
   "cell_type": "code",
   "execution_count": null,
   "metadata": {},
   "outputs": [],
   "source": [
    "#Igjen beklager for nasty kode\n",
    "\n",
    "X_test_estimated_a = pd.read_parquet('A/X_test_estimated.parquet')\n",
    "X_test_estimated_b = pd.read_parquet('A/X_test_estimated.parquet')\n",
    "X_test_estimated_c = pd.read_parquet('A/X_test_estimated.parquet')\n",
    "\n",
    "X_test_estimated_a = X_test_estimated_a.iloc[:,1:]\n",
    "X_test_estimated_b = X_test_estimated_b.iloc[:,1:]\n",
    "X_test_estimated_c = X_test_estimated_c.iloc[:,1:]\n",
    "X_test_estimated_a = add_location(averageFeatures(removeNaN(X_test_estimated_a)), \"A\")\n",
    "X_test_estimated_b = add_location(averageFeatures(removeNaN(X_test_estimated_b)), \"B\")\n",
    "X_test_estimated_c = add_location(averageFeatures(removeNaN(X_test_estimated_c)), \"C\")\n",
    "\n",
    "\n",
    "X_test_estimated = pd.concat([X_test_estimated_a, X_test_estimated_b,X_test_estimated_c]).rename(columns={\"date_forecast\" : \"time\"})\n",
    "\n",
    "\n",
    "X_test_estimated_a[\"location\"] = \"A\"\n",
    "X_test_estimated_b[\"location\"] = \"B\"\n",
    "X_test_estimated_c[\"location\"] = \"C\"\n",
    "\n",
    "parse_dates = ['time']\n",
    "X_test_targets = pd.read_csv(\"test.csv\", parse_dates=parse_dates)\n",
    "\n",
    "X_test = pd.merge(X_test_estimated, X_test_targets, on=[\"time\", \"location\"], how=\"right\")\n",
    "\n",
    "X_test = X_test.iloc[:,0:-2]\n",
    "X_test[\"day\"] = X_test[\"time\"].dt.day_of_year\n",
    "X_test[\"hour\"] = X_test[\"time\"].dt.hour\n",
    "X_test = X_test.iloc[:,1:]\n",
    "X_test[\"location\"] = X_test[\"location\"].map({\"A\": 0, \"B\": 1, \"C\": 2})\n",
    "X_test = ((X_test-dataMean)/dataStd).fillna(value=0)\n",
    "\n",
    "X_test[\"snow_density:kgm3\"] = 0\n",
    "\n",
    "compare = pd.concat([X_test, evalsetX])\n"
   ]
  },
  {
   "cell_type": "code",
   "execution_count": null,
   "metadata": {},
   "outputs": [],
   "source": [
    "display(X_test.describe()-evalsetX.describe())"
   ]
  },
  {
   "cell_type": "code",
   "execution_count": null,
   "metadata": {},
   "outputs": [],
   "source": [
    "\n",
    "test_preds = pd.read_csv(\"sample_submission.csv\")\n",
    "test_preds[\"prediction\"] = model.predict(X_test)\n",
    "test_preds.to_csv(\"preds/NN_locationTimeInput_Ada_correctNormalization_sampleWeightedByMonth.csv\", index=False)"
   ]
  }
 ],
 "metadata": {
  "kernelspec": {
   "display_name": "Python 3",
   "language": "python",
   "name": "python3"
  },
  "language_info": {
   "codemirror_mode": {
    "name": "ipython",
    "version": 3
   },
   "file_extension": ".py",
   "mimetype": "text/x-python",
   "name": "python",
   "nbconvert_exporter": "python",
   "pygments_lexer": "ipython3",
   "version": "3.11.5"
  }
 },
 "nbformat": 4,
 "nbformat_minor": 2
}
