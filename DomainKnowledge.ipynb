{
 "cells": [
  {
   "cell_type": "markdown",
   "metadata": {},
   "source": [
    "# The features\n",
    "\n",
    "After investigating the features we noticed that some features were cummulative. After reading about the features on meteomatics we concluded that there were three different types of featuress.\n",
    "- Instantanious features, example: direct_rad. A feature of this kind would tell us the value at the exact time of date_forecast\n",
    "- Cummulative features, example direct_rad_energy_1h. These features included a timeinterval which told us in what period it was measured. for example a value at 15:00 for direct_rad_energy_1h:J told us that the total energy from the sun in the period 14:00-15:00\n",
    "- Lastly some features were neither stated as cummulative or instantanious, we assumed these to be cummulative of the last 15 minutes\n",
    "\n"
   ]
  },
  {
   "cell_type": "markdown",
   "metadata": {},
   "source": []
  }
 ],
 "metadata": {
  "language_info": {
   "name": "python"
  }
 },
 "nbformat": 4,
 "nbformat_minor": 2
}
